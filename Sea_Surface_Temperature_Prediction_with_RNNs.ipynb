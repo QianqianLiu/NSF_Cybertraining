{
  "metadata": {
    "kernelspec": {
      "language": "python",
      "display_name": "Python 3",
      "name": "python3"
    },
    "language_info": {
      "pygments_lexer": "ipython3",
      "nbconvert_exporter": "python",
      "version": "3.6.4",
      "file_extension": ".py",
      "codemirror_mode": {
        "name": "ipython",
        "version": 3
      },
      "name": "python",
      "mimetype": "text/x-python"
    },
    "colab": {
      "provenance": [],
      "include_colab_link": true
    }
  },
  "nbformat_minor": 0,
  "nbformat": 4,
  "cells": [
    {
      "cell_type": "markdown",
      "metadata": {
        "id": "view-in-github",
        "colab_type": "text"
      },
      "source": [
        "<a href=\"https://colab.research.google.com/github/QianqianLiu/NSF_Cybertraining/blob/main/Sea_Surface_Temperature_Prediction_with_RNNs.ipynb\" target=\"_parent\"><img src=\"https://colab.research.google.com/assets/colab-badge.svg\" alt=\"Open In Colab\"/></a>"
      ]
    },
    {
      "cell_type": "code",
      "source": [],
      "metadata": {
        "id": "94CtcjRhZPT7"
      },
      "execution_count": null,
      "outputs": []
    },
    {
      "cell_type": "markdown",
      "source": [
        "# Sea Surface Temperature Prediction Using RNN-LSTM\n",
        "\n",
        "Predicting wave behaviors is an important tool for the safety of ship navigation and offshore operations.\n",
        "\n",
        "In order to predict wave behaviors we need to collect wave data. Wave monitoring buoys are used for collecting the data. Wave monitoring buoys continuously measures the wave height, wave period and wave direction.\n",
        "\n",
        "As the wave monitoring buoy floats up and down each passing wave, its motion is measured and electronically processed. Data from the wave monitoring buoys are transmitted to a nearby receiver station as a radio signal.\n",
        "\n",
        "Measured and derived wave data in this study is collected by oceanographic wave measuring buoys anchored at Mooloolaba/Queensland/Australia.\n",
        "\n",
        "Our aim is to create a Long Short Time Memory (LSTM) deep learning model to predict sea surface temperature with this data. In order to achive this we will divide the data set into two part (train and test). Every 30 samples from the training data will be investigated and the 31st sample features will be predicted by the model. Once the model is properly trained, test data will be used as real time wave data. And lastly we will compare these real data samples and our model's predictions to evaluate the model's success.\n",
        "\n",
        "As an exercise, you will create an LSTM model to predict wave height.\n",
        "\n",
        "\n",
        "References:\n",
        "1. https://www.qld.gov.au/environment/coasts-waterways/beach/monitoring/waves\n",
        "2. https://www.data.qld.gov.au/dataset/coastal-data-system-waves-mooloolaba\n"
      ],
      "metadata": {
        "id": "2iZOuLuiSRo4"
      }
    },
    {
      "cell_type": "markdown",
      "source": [
        "**The wave data used in this study contains following features:**\n",
        "* Date/Time: Date and 30 minute wave record\n",
        "* Hs : The significant wave height (in metres), defined as the average of the highest one-third of wave heights in a 30 minute wave record.\n",
        "* Hmax: The height (in metres) of the highest single wave in a wave record.\n",
        "* Tz: The average of the zero up-crossing wave periods (in seconds) in a wave record.\n",
        "* Tp: This is the wave period (in seconds) of those waves that are producing the most energy in a wave record.\n",
        "* Peak Direction: The direction that peak waves are coming from, shown in degrees from true north.\n",
        "* SST: The sea surface temperature at the wave monitoring buoy, in degrees Celsius.\n",
        "\n"
      ],
      "metadata": {
        "id": "1AiLTt5VSRo-"
      }
    },
    {
      "cell_type": "markdown",
      "source": [
        "## Loading Data"
      ],
      "metadata": {
        "id": "IxNonVHnSRo_"
      }
    },
    {
      "cell_type": "code",
      "source": [
        "import numpy as np\n",
        "import pandas as pd\n",
        "import matplotlib.pyplot as plt\n",
        "import seaborn as sns\n",
        "import os"
      ],
      "metadata": {
        "_kg_hide-input": true,
        "trusted": true,
        "id": "nV6s8xnbSRpA"
      },
      "execution_count": null,
      "outputs": []
    },
    {
      "cell_type": "code",
      "source": [
        "df = pd.read_csv('coastalData.csv')\n",
        "df.head()"
      ],
      "metadata": {
        "_uuid": "d629ff2d2480ee46fbb7e2d37f6b5fab8052498a",
        "_cell_guid": "79c7e3d0-c299-4dcb-8224-4455121ee9b0",
        "_kg_hide-input": true,
        "trusted": true,
        "id": "MIMmlZNpSRpC",
        "colab": {
          "base_uri": "https://localhost:8080/",
          "height": 206
        },
        "outputId": "9484cbd4-4b89-435c-f870-1f2c17513419"
      },
      "execution_count": null,
      "outputs": [
        {
          "output_type": "execute_result",
          "data": {
            "text/plain": [
              "          Date/Time      Hs   Hmax      Tz      Tp  Peak Direction    SST\n",
              "0  01/01/2017 00:00 -99.900 -99.90 -99.900 -99.900           -99.9 -99.90\n",
              "1  01/01/2017 00:30   0.875   1.39   4.421   4.506           -99.9 -99.90\n",
              "2  01/01/2017 01:00   0.763   1.15   4.520   5.513            49.0  25.65\n",
              "3  01/01/2017 01:30   0.770   1.41   4.582   5.647            75.0  25.50\n",
              "4  01/01/2017 02:00   0.747   1.16   4.515   5.083            91.0  25.45"
            ],
            "text/html": [
              "\n",
              "  <div id=\"df-054b9689-a1a6-43ca-a1ed-e65b02719019\">\n",
              "    <div class=\"colab-df-container\">\n",
              "      <div>\n",
              "<style scoped>\n",
              "    .dataframe tbody tr th:only-of-type {\n",
              "        vertical-align: middle;\n",
              "    }\n",
              "\n",
              "    .dataframe tbody tr th {\n",
              "        vertical-align: top;\n",
              "    }\n",
              "\n",
              "    .dataframe thead th {\n",
              "        text-align: right;\n",
              "    }\n",
              "</style>\n",
              "<table border=\"1\" class=\"dataframe\">\n",
              "  <thead>\n",
              "    <tr style=\"text-align: right;\">\n",
              "      <th></th>\n",
              "      <th>Date/Time</th>\n",
              "      <th>Hs</th>\n",
              "      <th>Hmax</th>\n",
              "      <th>Tz</th>\n",
              "      <th>Tp</th>\n",
              "      <th>Peak Direction</th>\n",
              "      <th>SST</th>\n",
              "    </tr>\n",
              "  </thead>\n",
              "  <tbody>\n",
              "    <tr>\n",
              "      <th>0</th>\n",
              "      <td>01/01/2017 00:00</td>\n",
              "      <td>-99.900</td>\n",
              "      <td>-99.90</td>\n",
              "      <td>-99.900</td>\n",
              "      <td>-99.900</td>\n",
              "      <td>-99.9</td>\n",
              "      <td>-99.90</td>\n",
              "    </tr>\n",
              "    <tr>\n",
              "      <th>1</th>\n",
              "      <td>01/01/2017 00:30</td>\n",
              "      <td>0.875</td>\n",
              "      <td>1.39</td>\n",
              "      <td>4.421</td>\n",
              "      <td>4.506</td>\n",
              "      <td>-99.9</td>\n",
              "      <td>-99.90</td>\n",
              "    </tr>\n",
              "    <tr>\n",
              "      <th>2</th>\n",
              "      <td>01/01/2017 01:00</td>\n",
              "      <td>0.763</td>\n",
              "      <td>1.15</td>\n",
              "      <td>4.520</td>\n",
              "      <td>5.513</td>\n",
              "      <td>49.0</td>\n",
              "      <td>25.65</td>\n",
              "    </tr>\n",
              "    <tr>\n",
              "      <th>3</th>\n",
              "      <td>01/01/2017 01:30</td>\n",
              "      <td>0.770</td>\n",
              "      <td>1.41</td>\n",
              "      <td>4.582</td>\n",
              "      <td>5.647</td>\n",
              "      <td>75.0</td>\n",
              "      <td>25.50</td>\n",
              "    </tr>\n",
              "    <tr>\n",
              "      <th>4</th>\n",
              "      <td>01/01/2017 02:00</td>\n",
              "      <td>0.747</td>\n",
              "      <td>1.16</td>\n",
              "      <td>4.515</td>\n",
              "      <td>5.083</td>\n",
              "      <td>91.0</td>\n",
              "      <td>25.45</td>\n",
              "    </tr>\n",
              "  </tbody>\n",
              "</table>\n",
              "</div>\n",
              "      <button class=\"colab-df-convert\" onclick=\"convertToInteractive('df-054b9689-a1a6-43ca-a1ed-e65b02719019')\"\n",
              "              title=\"Convert this dataframe to an interactive table.\"\n",
              "              style=\"display:none;\">\n",
              "        \n",
              "  <svg xmlns=\"http://www.w3.org/2000/svg\" height=\"24px\"viewBox=\"0 0 24 24\"\n",
              "       width=\"24px\">\n",
              "    <path d=\"M0 0h24v24H0V0z\" fill=\"none\"/>\n",
              "    <path d=\"M18.56 5.44l.94 2.06.94-2.06 2.06-.94-2.06-.94-.94-2.06-.94 2.06-2.06.94zm-11 1L8.5 8.5l.94-2.06 2.06-.94-2.06-.94L8.5 2.5l-.94 2.06-2.06.94zm10 10l.94 2.06.94-2.06 2.06-.94-2.06-.94-.94-2.06-.94 2.06-2.06.94z\"/><path d=\"M17.41 7.96l-1.37-1.37c-.4-.4-.92-.59-1.43-.59-.52 0-1.04.2-1.43.59L10.3 9.45l-7.72 7.72c-.78.78-.78 2.05 0 2.83L4 21.41c.39.39.9.59 1.41.59.51 0 1.02-.2 1.41-.59l7.78-7.78 2.81-2.81c.8-.78.8-2.07 0-2.86zM5.41 20L4 18.59l7.72-7.72 1.47 1.35L5.41 20z\"/>\n",
              "  </svg>\n",
              "      </button>\n",
              "      \n",
              "  <style>\n",
              "    .colab-df-container {\n",
              "      display:flex;\n",
              "      flex-wrap:wrap;\n",
              "      gap: 12px;\n",
              "    }\n",
              "\n",
              "    .colab-df-convert {\n",
              "      background-color: #E8F0FE;\n",
              "      border: none;\n",
              "      border-radius: 50%;\n",
              "      cursor: pointer;\n",
              "      display: none;\n",
              "      fill: #1967D2;\n",
              "      height: 32px;\n",
              "      padding: 0 0 0 0;\n",
              "      width: 32px;\n",
              "    }\n",
              "\n",
              "    .colab-df-convert:hover {\n",
              "      background-color: #E2EBFA;\n",
              "      box-shadow: 0px 1px 2px rgba(60, 64, 67, 0.3), 0px 1px 3px 1px rgba(60, 64, 67, 0.15);\n",
              "      fill: #174EA6;\n",
              "    }\n",
              "\n",
              "    [theme=dark] .colab-df-convert {\n",
              "      background-color: #3B4455;\n",
              "      fill: #D2E3FC;\n",
              "    }\n",
              "\n",
              "    [theme=dark] .colab-df-convert:hover {\n",
              "      background-color: #434B5C;\n",
              "      box-shadow: 0px 1px 3px 1px rgba(0, 0, 0, 0.15);\n",
              "      filter: drop-shadow(0px 1px 2px rgba(0, 0, 0, 0.3));\n",
              "      fill: #FFFFFF;\n",
              "    }\n",
              "  </style>\n",
              "\n",
              "      <script>\n",
              "        const buttonEl =\n",
              "          document.querySelector('#df-054b9689-a1a6-43ca-a1ed-e65b02719019 button.colab-df-convert');\n",
              "        buttonEl.style.display =\n",
              "          google.colab.kernel.accessAllowed ? 'block' : 'none';\n",
              "\n",
              "        async function convertToInteractive(key) {\n",
              "          const element = document.querySelector('#df-054b9689-a1a6-43ca-a1ed-e65b02719019');\n",
              "          const dataTable =\n",
              "            await google.colab.kernel.invokeFunction('convertToInteractive',\n",
              "                                                     [key], {});\n",
              "          if (!dataTable) return;\n",
              "\n",
              "          const docLinkHtml = 'Like what you see? Visit the ' +\n",
              "            '<a target=\"_blank\" href=https://colab.research.google.com/notebooks/data_table.ipynb>data table notebook</a>'\n",
              "            + ' to learn more about interactive tables.';\n",
              "          element.innerHTML = '';\n",
              "          dataTable['output_type'] = 'display_data';\n",
              "          await google.colab.output.renderOutput(dataTable, element);\n",
              "          const docLink = document.createElement('div');\n",
              "          docLink.innerHTML = docLinkHtml;\n",
              "          element.appendChild(docLink);\n",
              "        }\n",
              "      </script>\n",
              "    </div>\n",
              "  </div>\n",
              "  "
            ]
          },
          "metadata": {},
          "execution_count": 2
        }
      ]
    },
    {
      "cell_type": "code",
      "source": [
        "# Deleting NaN values\n",
        "df.replace(-99.90, np.nan, inplace=True)\n",
        "df.drop('Date/Time', axis=1, inplace=True)\n",
        "df.dropna(inplace=True)\n",
        "df.reset_index(drop=True, inplace=True)\n",
        "df.head()"
      ],
      "metadata": {
        "trusted": true,
        "id": "2b0qoc9vSRpD",
        "colab": {
          "base_uri": "https://localhost:8080/",
          "height": 206
        },
        "outputId": "dcbcf7c7-9f7f-4a29-a164-35e61af69b52"
      },
      "execution_count": null,
      "outputs": [
        {
          "output_type": "execute_result",
          "data": {
            "text/plain": [
              "      Hs  Hmax     Tz     Tp  Peak Direction    SST\n",
              "0  0.763  1.15  4.520  5.513            49.0  25.65\n",
              "1  0.770  1.41  4.582  5.647            75.0  25.50\n",
              "2  0.747  1.16  4.515  5.083            91.0  25.45\n",
              "3  0.718  1.61  4.614  6.181            68.0  25.45\n",
              "4  0.707  1.34  4.568  4.705            73.0  25.50"
            ],
            "text/html": [
              "\n",
              "  <div id=\"df-8a29e34a-ae69-49c6-8da3-259fbca0b3df\">\n",
              "    <div class=\"colab-df-container\">\n",
              "      <div>\n",
              "<style scoped>\n",
              "    .dataframe tbody tr th:only-of-type {\n",
              "        vertical-align: middle;\n",
              "    }\n",
              "\n",
              "    .dataframe tbody tr th {\n",
              "        vertical-align: top;\n",
              "    }\n",
              "\n",
              "    .dataframe thead th {\n",
              "        text-align: right;\n",
              "    }\n",
              "</style>\n",
              "<table border=\"1\" class=\"dataframe\">\n",
              "  <thead>\n",
              "    <tr style=\"text-align: right;\">\n",
              "      <th></th>\n",
              "      <th>Hs</th>\n",
              "      <th>Hmax</th>\n",
              "      <th>Tz</th>\n",
              "      <th>Tp</th>\n",
              "      <th>Peak Direction</th>\n",
              "      <th>SST</th>\n",
              "    </tr>\n",
              "  </thead>\n",
              "  <tbody>\n",
              "    <tr>\n",
              "      <th>0</th>\n",
              "      <td>0.763</td>\n",
              "      <td>1.15</td>\n",
              "      <td>4.520</td>\n",
              "      <td>5.513</td>\n",
              "      <td>49.0</td>\n",
              "      <td>25.65</td>\n",
              "    </tr>\n",
              "    <tr>\n",
              "      <th>1</th>\n",
              "      <td>0.770</td>\n",
              "      <td>1.41</td>\n",
              "      <td>4.582</td>\n",
              "      <td>5.647</td>\n",
              "      <td>75.0</td>\n",
              "      <td>25.50</td>\n",
              "    </tr>\n",
              "    <tr>\n",
              "      <th>2</th>\n",
              "      <td>0.747</td>\n",
              "      <td>1.16</td>\n",
              "      <td>4.515</td>\n",
              "      <td>5.083</td>\n",
              "      <td>91.0</td>\n",
              "      <td>25.45</td>\n",
              "    </tr>\n",
              "    <tr>\n",
              "      <th>3</th>\n",
              "      <td>0.718</td>\n",
              "      <td>1.61</td>\n",
              "      <td>4.614</td>\n",
              "      <td>6.181</td>\n",
              "      <td>68.0</td>\n",
              "      <td>25.45</td>\n",
              "    </tr>\n",
              "    <tr>\n",
              "      <th>4</th>\n",
              "      <td>0.707</td>\n",
              "      <td>1.34</td>\n",
              "      <td>4.568</td>\n",
              "      <td>4.705</td>\n",
              "      <td>73.0</td>\n",
              "      <td>25.50</td>\n",
              "    </tr>\n",
              "  </tbody>\n",
              "</table>\n",
              "</div>\n",
              "      <button class=\"colab-df-convert\" onclick=\"convertToInteractive('df-8a29e34a-ae69-49c6-8da3-259fbca0b3df')\"\n",
              "              title=\"Convert this dataframe to an interactive table.\"\n",
              "              style=\"display:none;\">\n",
              "        \n",
              "  <svg xmlns=\"http://www.w3.org/2000/svg\" height=\"24px\"viewBox=\"0 0 24 24\"\n",
              "       width=\"24px\">\n",
              "    <path d=\"M0 0h24v24H0V0z\" fill=\"none\"/>\n",
              "    <path d=\"M18.56 5.44l.94 2.06.94-2.06 2.06-.94-2.06-.94-.94-2.06-.94 2.06-2.06.94zm-11 1L8.5 8.5l.94-2.06 2.06-.94-2.06-.94L8.5 2.5l-.94 2.06-2.06.94zm10 10l.94 2.06.94-2.06 2.06-.94-2.06-.94-.94-2.06-.94 2.06-2.06.94z\"/><path d=\"M17.41 7.96l-1.37-1.37c-.4-.4-.92-.59-1.43-.59-.52 0-1.04.2-1.43.59L10.3 9.45l-7.72 7.72c-.78.78-.78 2.05 0 2.83L4 21.41c.39.39.9.59 1.41.59.51 0 1.02-.2 1.41-.59l7.78-7.78 2.81-2.81c.8-.78.8-2.07 0-2.86zM5.41 20L4 18.59l7.72-7.72 1.47 1.35L5.41 20z\"/>\n",
              "  </svg>\n",
              "      </button>\n",
              "      \n",
              "  <style>\n",
              "    .colab-df-container {\n",
              "      display:flex;\n",
              "      flex-wrap:wrap;\n",
              "      gap: 12px;\n",
              "    }\n",
              "\n",
              "    .colab-df-convert {\n",
              "      background-color: #E8F0FE;\n",
              "      border: none;\n",
              "      border-radius: 50%;\n",
              "      cursor: pointer;\n",
              "      display: none;\n",
              "      fill: #1967D2;\n",
              "      height: 32px;\n",
              "      padding: 0 0 0 0;\n",
              "      width: 32px;\n",
              "    }\n",
              "\n",
              "    .colab-df-convert:hover {\n",
              "      background-color: #E2EBFA;\n",
              "      box-shadow: 0px 1px 2px rgba(60, 64, 67, 0.3), 0px 1px 3px 1px rgba(60, 64, 67, 0.15);\n",
              "      fill: #174EA6;\n",
              "    }\n",
              "\n",
              "    [theme=dark] .colab-df-convert {\n",
              "      background-color: #3B4455;\n",
              "      fill: #D2E3FC;\n",
              "    }\n",
              "\n",
              "    [theme=dark] .colab-df-convert:hover {\n",
              "      background-color: #434B5C;\n",
              "      box-shadow: 0px 1px 3px 1px rgba(0, 0, 0, 0.15);\n",
              "      filter: drop-shadow(0px 1px 2px rgba(0, 0, 0, 0.3));\n",
              "      fill: #FFFFFF;\n",
              "    }\n",
              "  </style>\n",
              "\n",
              "      <script>\n",
              "        const buttonEl =\n",
              "          document.querySelector('#df-8a29e34a-ae69-49c6-8da3-259fbca0b3df button.colab-df-convert');\n",
              "        buttonEl.style.display =\n",
              "          google.colab.kernel.accessAllowed ? 'block' : 'none';\n",
              "\n",
              "        async function convertToInteractive(key) {\n",
              "          const element = document.querySelector('#df-8a29e34a-ae69-49c6-8da3-259fbca0b3df');\n",
              "          const dataTable =\n",
              "            await google.colab.kernel.invokeFunction('convertToInteractive',\n",
              "                                                     [key], {});\n",
              "          if (!dataTable) return;\n",
              "\n",
              "          const docLinkHtml = 'Like what you see? Visit the ' +\n",
              "            '<a target=\"_blank\" href=https://colab.research.google.com/notebooks/data_table.ipynb>data table notebook</a>'\n",
              "            + ' to learn more about interactive tables.';\n",
              "          element.innerHTML = '';\n",
              "          dataTable['output_type'] = 'display_data';\n",
              "          await google.colab.output.renderOutput(dataTable, element);\n",
              "          const docLink = document.createElement('div');\n",
              "          docLink.innerHTML = docLinkHtml;\n",
              "          element.appendChild(docLink);\n",
              "        }\n",
              "      </script>\n",
              "    </div>\n",
              "  </div>\n",
              "  "
            ]
          },
          "metadata": {},
          "execution_count": 3
        }
      ]
    },
    {
      "cell_type": "markdown",
      "source": [
        "## Visualization of the Features"
      ],
      "metadata": {
        "id": "JfVp5wu7SRpD"
      }
    },
    {
      "cell_type": "code",
      "source": [
        "df_graph = df.loc[0:100]\n",
        "\n",
        "plt.figure(figsize=(5,5))\n",
        "\n",
        "plt.plot(df_graph['SST'], color='green')\n",
        "plt.title('Sea Surface Temperature')\n",
        "plt.show();"
      ],
      "metadata": {
        "_kg_hide-input": true,
        "trusted": true,
        "id": "G_G-pwcXSRpE",
        "colab": {
          "base_uri": "https://localhost:8080/",
          "height": 468
        },
        "outputId": "2b80c00a-7a42-4d33-a6d8-56e29de37bce"
      },
      "execution_count": null,
      "outputs": [
        {
          "output_type": "display_data",
          "data": {
            "text/plain": [
              "<Figure size 500x500 with 1 Axes>"
            ],
            "image/png": "[encoded data removed]"
          },
          "metadata": {}
        }
      ]
    },
    {
      "cell_type": "code",
      "source": [
        "df_graph = df.loc[0:100]\n",
        "\n",
        "plt.figure(figsize=(5,5))\n",
        "\n",
        "plt.plot(df_graph['Hs'], color='green')\n",
        "plt.title('Sea Surface Temperature')\n",
        "plt.show();"
      ],
      "metadata": {
        "id": "rPTryQ06u76d"
      },
      "execution_count": null,
      "outputs": []
    },
    {
      "cell_type": "markdown",
      "source": [
        "## Initial Statistics"
      ],
      "metadata": {
        "id": "h1lq13ksSRpE"
      }
    },
    {
      "cell_type": "code",
      "source": [
        "print(df.info())"
      ],
      "metadata": {
        "_kg_hide-input": true,
        "trusted": true,
        "id": "BIXZ799rSRpF",
        "colab": {
          "base_uri": "https://localhost:8080/"
        },
        "outputId": "2da62fde-c8e4-438c-c218-3b87293d8b75"
      },
      "execution_count": null,
      "outputs": [
        {
          "output_type": "stream",
          "name": "stdout",
          "text": [
            "<class 'pandas.core.frame.DataFrame'>\n",
            "RangeIndex: 43454 entries, 0 to 43453\n",
            "Data columns (total 6 columns):\n",
            " #   Column          Non-Null Count  Dtype  \n",
            "---  ------          --------------  -----  \n",
            " 0   Hs              43454 non-null  float64\n",
            " 1   Hmax            43454 non-null  float64\n",
            " 2   Tz              43454 non-null  float64\n",
            " 3   Tp              43454 non-null  float64\n",
            " 4   Peak Direction  43454 non-null  float64\n",
            " 5   SST             43454 non-null  float64\n",
            "dtypes: float64(6)\n",
            "memory usage: 2.0 MB\n",
            "None\n"
          ]
        }
      ]
    },
    {
      "cell_type": "code",
      "source": [
        "df.describe()"
      ],
      "metadata": {
        "_kg_hide-input": true,
        "trusted": true,
        "id": "fwx6XxsNSRpF",
        "colab": {
          "base_uri": "https://localhost:8080/",
          "height": 300
        },
        "outputId": "42f6b3f1-b658-4335-db34-4d6961919f3e"
      },
      "execution_count": null,
      "outputs": [
        {
          "output_type": "execute_result",
          "data": {
            "text/plain": [
              "                 Hs          Hmax            Tz            Tp  Peak Direction  \\\n",
              "count  43454.000000  43454.000000  43454.000000  43454.000000    43454.000000   \n",
              "mean       1.237799      2.090125      5.619685      9.011972       98.626594   \n",
              "std        0.528608      0.897640      0.928533      2.390107       24.275165   \n",
              "min        0.294000      0.510000      3.076000      2.720000        5.000000   \n",
              "25%        0.839000      1.410000      4.981000      7.292000       85.000000   \n",
              "50%        1.130000      1.900000      5.530000      8.886000      101.000000   \n",
              "75%        1.544000      2.600000      6.166000     10.677000      116.000000   \n",
              "max        4.257000      7.906000     10.921000     21.121000      358.000000   \n",
              "\n",
              "                SST  \n",
              "count  43454.000000  \n",
              "mean      23.949641  \n",
              "std        2.231022  \n",
              "min       19.800000  \n",
              "25%       21.900000  \n",
              "50%       23.950000  \n",
              "75%       26.050000  \n",
              "max       28.650000  "
            ],
            "text/html": [
              "\n",
              "  <div id=\"df-cd304e85-9d32-4fbe-9211-8fea0e249a4c\">\n",
              "    <div class=\"colab-df-container\">\n",
              "      <div>\n",
              "<style scoped>\n",
              "    .dataframe tbody tr th:only-of-type {\n",
              "        vertical-align: middle;\n",
              "    }\n",
              "\n",
              "    .dataframe tbody tr th {\n",
              "        vertical-align: top;\n",
              "    }\n",
              "\n",
              "    .dataframe thead th {\n",
              "        text-align: right;\n",
              "    }\n",
              "</style>\n",
              "<table border=\"1\" class=\"dataframe\">\n",
              "  <thead>\n",
              "    <tr style=\"text-align: right;\">\n",
              "      <th></th>\n",
              "      <th>Hs</th>\n",
              "      <th>Hmax</th>\n",
              "      <th>Tz</th>\n",
              "      <th>Tp</th>\n",
              "      <th>Peak Direction</th>\n",
              "      <th>SST</th>\n",
              "    </tr>\n",
              "  </thead>\n",
              "  <tbody>\n",
              "    <tr>\n",
              "      <th>count</th>\n",
              "      <td>43454.000000</td>\n",
              "      <td>43454.000000</td>\n",
              "      <td>43454.000000</td>\n",
              "      <td>43454.000000</td>\n",
              "      <td>43454.000000</td>\n",
              "      <td>43454.000000</td>\n",
              "    </tr>\n",
              "    <tr>\n",
              "      <th>mean</th>\n",
              "      <td>1.237799</td>\n",
              "      <td>2.090125</td>\n",
              "      <td>5.619685</td>\n",
              "      <td>9.011972</td>\n",
              "      <td>98.626594</td>\n",
              "      <td>23.949641</td>\n",
              "    </tr>\n",
              "    <tr>\n",
              "      <th>std</th>\n",
              "      <td>0.528608</td>\n",
              "      <td>0.897640</td>\n",
              "      <td>0.928533</td>\n",
              "      <td>2.390107</td>\n",
              "      <td>24.275165</td>\n",
              "      <td>2.231022</td>\n",
              "    </tr>\n",
              "    <tr>\n",
              "      <th>min</th>\n",
              "      <td>0.294000</td>\n",
              "      <td>0.510000</td>\n",
              "      <td>3.076000</td>\n",
              "      <td>2.720000</td>\n",
              "      <td>5.000000</td>\n",
              "      <td>19.800000</td>\n",
              "    </tr>\n",
              "    <tr>\n",
              "      <th>25%</th>\n",
              "      <td>0.839000</td>\n",
              "      <td>1.410000</td>\n",
              "      <td>4.981000</td>\n",
              "      <td>7.292000</td>\n",
              "      <td>85.000000</td>\n",
              "      <td>21.900000</td>\n",
              "    </tr>\n",
              "    <tr>\n",
              "      <th>50%</th>\n",
              "      <td>1.130000</td>\n",
              "      <td>1.900000</td>\n",
              "      <td>5.530000</td>\n",
              "      <td>8.886000</td>\n",
              "      <td>101.000000</td>\n",
              "      <td>23.950000</td>\n",
              "    </tr>\n",
              "    <tr>\n",
              "      <th>75%</th>\n",
              "      <td>1.544000</td>\n",
              "      <td>2.600000</td>\n",
              "      <td>6.166000</td>\n",
              "      <td>10.677000</td>\n",
              "      <td>116.000000</td>\n",
              "      <td>26.050000</td>\n",
              "    </tr>\n",
              "    <tr>\n",
              "      <th>max</th>\n",
              "      <td>4.257000</td>\n",
              "      <td>7.906000</td>\n",
              "      <td>10.921000</td>\n",
              "      <td>21.121000</td>\n",
              "      <td>358.000000</td>\n",
              "      <td>28.650000</td>\n",
              "    </tr>\n",
              "  </tbody>\n",
              "</table>\n",
              "</div>\n",
              "      <button class=\"colab-df-convert\" onclick=\"convertToInteractive('df-cd304e85-9d32-4fbe-9211-8fea0e249a4c')\"\n",
              "              title=\"Convert this dataframe to an interactive table.\"\n",
              "              style=\"display:none;\">\n",
              "        \n",
              "  <svg xmlns=\"http://www.w3.org/2000/svg\" height=\"24px\"viewBox=\"0 0 24 24\"\n",
              "       width=\"24px\">\n",
              "    <path d=\"M0 0h24v24H0V0z\" fill=\"none\"/>\n",
              "    <path d=\"M18.56 5.44l.94 2.06.94-2.06 2.06-.94-2.06-.94-.94-2.06-.94 2.06-2.06.94zm-11 1L8.5 8.5l.94-2.06 2.06-.94-2.06-.94L8.5 2.5l-.94 2.06-2.06.94zm10 10l.94 2.06.94-2.06 2.06-.94-2.06-.94-.94-2.06-.94 2.06-2.06.94z\"/><path d=\"M17.41 7.96l-1.37-1.37c-.4-.4-.92-.59-1.43-.59-.52 0-1.04.2-1.43.59L10.3 9.45l-7.72 7.72c-.78.78-.78 2.05 0 2.83L4 21.41c.39.39.9.59 1.41.59.51 0 1.02-.2 1.41-.59l7.78-7.78 2.81-2.81c.8-.78.8-2.07 0-2.86zM5.41 20L4 18.59l7.72-7.72 1.47 1.35L5.41 20z\"/>\n",
              "  </svg>\n",
              "      </button>\n",
              "      \n",
              "  <style>\n",
              "    .colab-df-container {\n",
              "      display:flex;\n",
              "      flex-wrap:wrap;\n",
              "      gap: 12px;\n",
              "    }\n",
              "\n",
              "    .colab-df-convert {\n",
              "      background-color: #E8F0FE;\n",
              "      border: none;\n",
              "      border-radius: 50%;\n",
              "      cursor: pointer;\n",
              "      display: none;\n",
              "      fill: #1967D2;\n",
              "      height: 32px;\n",
              "      padding: 0 0 0 0;\n",
              "      width: 32px;\n",
              "    }\n",
              "\n",
              "    .colab-df-convert:hover {\n",
              "      background-color: #E2EBFA;\n",
              "      box-shadow: 0px 1px 2px rgba(60, 64, 67, 0.3), 0px 1px 3px 1px rgba(60, 64, 67, 0.15);\n",
              "      fill: #174EA6;\n",
              "    }\n",
              "\n",
              "    [theme=dark] .colab-df-convert {\n",
              "      background-color: #3B4455;\n",
              "      fill: #D2E3FC;\n",
              "    }\n",
              "\n",
              "    [theme=dark] .colab-df-convert:hover {\n",
              "      background-color: #434B5C;\n",
              "      box-shadow: 0px 1px 3px 1px rgba(0, 0, 0, 0.15);\n",
              "      filter: drop-shadow(0px 1px 2px rgba(0, 0, 0, 0.3));\n",
              "      fill: #FFFFFF;\n",
              "    }\n",
              "  </style>\n",
              "\n",
              "      <script>\n",
              "        const buttonEl =\n",
              "          document.querySelector('#df-cd304e85-9d32-4fbe-9211-8fea0e249a4c button.colab-df-convert');\n",
              "        buttonEl.style.display =\n",
              "          google.colab.kernel.accessAllowed ? 'block' : 'none';\n",
              "\n",
              "        async function convertToInteractive(key) {\n",
              "          const element = document.querySelector('#df-cd304e85-9d32-4fbe-9211-8fea0e249a4c');\n",
              "          const dataTable =\n",
              "            await google.colab.kernel.invokeFunction('convertToInteractive',\n",
              "                                                     [key], {});\n",
              "          if (!dataTable) return;\n",
              "\n",
              "          const docLinkHtml = 'Like what you see? Visit the ' +\n",
              "            '<a target=\"_blank\" href=https://colab.research.google.com/notebooks/data_table.ipynb>data table notebook</a>'\n",
              "            + ' to learn more about interactive tables.';\n",
              "          element.innerHTML = '';\n",
              "          dataTable['output_type'] = 'display_data';\n",
              "          await google.colab.output.renderOutput(dataTable, element);\n",
              "          const docLink = document.createElement('div');\n",
              "          docLink.innerHTML = docLinkHtml;\n",
              "          element.appendChild(docLink);\n",
              "        }\n",
              "      </script>\n",
              "    </div>\n",
              "  </div>\n",
              "  "
            ]
          },
          "metadata": {},
          "execution_count": 5
        }
      ]
    },
    {
      "cell_type": "code",
      "source": [
        "plt.figure(figsize=(5,5))\n",
        "sns.heatmap(df.corr(), linewidth=.1, annot=True, cmap='YlGnBu')\n",
        "plt.title('Correlation Matrix')\n",
        "plt.show();"
      ],
      "metadata": {
        "_kg_hide-input": true,
        "trusted": true,
        "id": "dCqgdudCSRpG",
        "colab": {
          "base_uri": "https://localhost:8080/",
          "height": 554
        },
        "outputId": "0d06da6c-8606-494c-fd62-cc8dfe9008a0"
      },
      "execution_count": null,
      "outputs": [
        {
          "output_type": "display_data",
          "data": {
            "text/plain": [
              "<Figure size 500x500 with 2 Axes>"
            ],
            "image/png": "[encoded data removed]"
          },
          "metadata": {}
        }
      ]
    },
    {
      "cell_type": "markdown",
      "source": [
        "## Feature Scaling"
      ],
      "metadata": {
        "id": "Ag6FcNlOSRpG"
      }
    },
    {
      "cell_type": "code",
      "source": [
        "from sklearn.preprocessing import MinMaxScaler\n",
        "\n",
        "# Scaling all the values between 0 and 1\n",
        "scaler = MinMaxScaler(feature_range=(0,1))\n",
        "data = scaler.fit_transform(df)\n",
        "print('Shape of the scaled data matrix: ', data.shape)"
      ],
      "metadata": {
        "trusted": true,
        "id": "o-cA_0JgSRpH",
        "colab": {
          "base_uri": "https://localhost:8080/"
        },
        "outputId": "33a84e79-c154-4267-e77f-d6f6bc84b29c"
      },
      "execution_count": null,
      "outputs": [
        {
          "output_type": "stream",
          "name": "stdout",
          "text": [
            "Shape of the scaled data matrix:  (43454, 6)\n"
          ]
        }
      ]
    },
    {
      "cell_type": "markdown",
      "source": [
        "## Train and Test Split"
      ],
      "metadata": {
        "id": "yRQaawuDSRpH"
      }
    },
    {
      "cell_type": "code",
      "source": [
        "# Separate data into 2 groups for train and test\n",
        "train = data[:42000,]\n",
        "test = data[42000: ,]\n",
        "\n",
        "# Shapes of our datasets\n",
        "print('Shape of train data: ', train.shape)\n",
        "print('Shape of test data: ', test.shape)"
      ],
      "metadata": {
        "trusted": true,
        "id": "SOxih0zMSRpI",
        "colab": {
          "base_uri": "https://localhost:8080/"
        },
        "outputId": "f42037c6-299d-4c40-c7c2-f428cef23767"
      },
      "execution_count": null,
      "outputs": [
        {
          "output_type": "stream",
          "name": "stdout",
          "text": [
            "Shape of train data:  (42000, 6)\n",
            "Shape of test data:  (1454, 6)\n"
          ]
        }
      ]
    },
    {
      "cell_type": "code",
      "source": [
        "# Separate every 30 samples as the input and get the 31st sample as the output.\n",
        "def prepare_data(data):\n",
        "    databatch = 30\n",
        "    x_list = []\n",
        "    y_list = []\n",
        "\n",
        "    for i in range(len(data)-databatch-1):\n",
        "        x_list.append(data[i:i+databatch])\n",
        "        y_list.append(data[i+databatch+1])\n",
        "\n",
        "    X_data = np.array(x_list)\n",
        "    X_data = np.reshape(X_data, (X_data.shape[0], X_data.shape[2], X_data.shape[1]))\n",
        "    y_data = np.array(y_list)\n",
        "\n",
        "    return X_data, y_data"
      ],
      "metadata": {
        "trusted": true,
        "id": "Y5Fcnu9dSRpI"
      },
      "execution_count": null,
      "outputs": []
    },
    {
      "cell_type": "code",
      "source": [
        "# Executing the separation\n",
        "X_train, y_train = prepare_data(train)\n",
        "X_test, y_test = prepare_data(test)\n",
        "print('X_train Shape : ', X_train.shape, 'y_train shape :', y_train.shape)\n",
        "print('X_test Shape  : ', X_test.shape, ' y_test shape  :', y_test.shape)"
      ],
      "metadata": {
        "trusted": true,
        "id": "_1o7YUppSRpJ",
        "colab": {
          "base_uri": "https://localhost:8080/"
        },
        "outputId": "504e1ee5-1e8b-4ecf-baed-f0257facda26"
      },
      "execution_count": null,
      "outputs": [
        {
          "output_type": "stream",
          "name": "stdout",
          "text": [
            "X_train Shape :  (41969, 6, 30) y_train shape : (41969, 6)\n",
            "X_test Shape  :  (1423, 6, 30)  y_test shape  : (1423, 6)\n"
          ]
        }
      ]
    },
    {
      "cell_type": "markdown",
      "source": [
        "## Creating the LSTM Model"
      ],
      "metadata": {
        "id": "q2ho6GXdSRpJ"
      }
    },
    {
      "cell_type": "code",
      "source": [
        "from keras.models import Sequential\n",
        "from keras.layers import Dense, Dropout, LSTM\n",
        "from keras.optimizers import Adam\n",
        "from keras.callbacks import ModelCheckpoint\n",
        "\n",
        "def lstm_model(x_data, y_data, num_epochs, batch_size, learning_rate):\n",
        "    # Creating the model\n",
        "    model = Sequential()\n",
        "    # Adding the first layer\n",
        "    model.add(LSTM(32, input_shape=(x_data.shape[1], x_data.shape[2]), return_sequences=True))\n",
        "    # Adding the second layer\n",
        "    model.add(LSTM(16, return_sequences=True))\n",
        "    # Adding a dropout value in order to prevent overfiting\n",
        "    model.add(Dropout(0.2))\n",
        "    # Adding the third layer\n",
        "    model.add(LSTM(10))\n",
        "    # Adding the output layer. 6 nodes are selected because the data has 6 features\n",
        "    model.add(Dense(6))\n",
        "\n",
        "    # Choosing the optimizer\n",
        "    optimizer = Adam(lr=learning_rate)\n",
        "\n",
        "    # Compiling the model\n",
        "    model.compile(loss='mean_squared_error', optimizer=optimizer, metrics=['accuracy'])\n",
        "\n",
        "    # Fitting the model\n",
        "    history = model.fit(x_data, y_data, validation_split=0.25, epochs=num_epochs, batch_size=batch_size)\n",
        "\n",
        "    return model, history"
      ],
      "metadata": {
        "trusted": true,
        "id": "tTeDUt-nSRpJ"
      },
      "execution_count": null,
      "outputs": []
    },
    {
      "cell_type": "code",
      "source": [
        "history = lstm_model(X_train, y_train, num_epochs=15, batch_size=200, learning_rate=.001)"
      ],
      "metadata": {
        "trusted": true,
        "id": "xEx5E4v1SRpK",
        "colab": {
          "base_uri": "https://localhost:8080/"
        },
        "outputId": "a94e4fa9-1154-4aff-e0f0-47ab02f232e4"
      },
      "execution_count": null,
      "outputs": [
        {
          "output_type": "stream",
          "name": "stderr",
          "text": [
            "/usr/local/lib/python3.10/dist-packages/keras/optimizers/legacy/adam.py:117: UserWarning: The `lr` argument is deprecated, use `learning_rate` instead.\n",
            "  super().__init__(name, **kwargs)\n"
          ]
        },
        {
          "output_type": "stream",
          "name": "stdout",
          "text": [
            "Epoch 1/15\n",
            "158/158 [==============================] - 16s 45ms/step - loss: 0.0254 - accuracy: 0.4725 - val_loss: 0.0042 - val_accuracy: 0.8922\n",
            "Epoch 2/15\n",
            "158/158 [==============================] - 3s 22ms/step - loss: 0.0058 - accuracy: 0.7487 - val_loss: 0.0034 - val_accuracy: 0.9066\n",
            "Epoch 3/15\n",
            "158/158 [==============================] - 4s 22ms/step - loss: 0.0049 - accuracy: 0.7791 - val_loss: 0.0029 - val_accuracy: 0.9117\n",
            "Epoch 4/15\n",
            "158/158 [==============================] - 4s 28ms/step - loss: 0.0043 - accuracy: 0.7925 - val_loss: 0.0024 - val_accuracy: 0.9161\n",
            "Epoch 5/15\n",
            "158/158 [==============================] - 3s 22ms/step - loss: 0.0037 - accuracy: 0.8032 - val_loss: 0.0022 - val_accuracy: 0.9160\n",
            "Epoch 6/15\n",
            "158/158 [==============================] - 3s 20ms/step - loss: 0.0033 - accuracy: 0.8147 - val_loss: 0.0019 - val_accuracy: 0.9225\n",
            "Epoch 7/15\n",
            "158/158 [==============================] - 4s 24ms/step - loss: 0.0030 - accuracy: 0.8242 - val_loss: 0.0018 - val_accuracy: 0.9238\n",
            "Epoch 8/15\n",
            "158/158 [==============================] - 4s 24ms/step - loss: 0.0028 - accuracy: 0.8311 - val_loss: 0.0017 - val_accuracy: 0.9237\n",
            "Epoch 9/15\n",
            "158/158 [==============================] - 3s 20ms/step - loss: 0.0027 - accuracy: 0.8379 - val_loss: 0.0018 - val_accuracy: 0.9217\n",
            "Epoch 10/15\n",
            "158/158 [==============================] - 3s 20ms/step - loss: 0.0026 - accuracy: 0.8425 - val_loss: 0.0016 - val_accuracy: 0.9295\n",
            "Epoch 11/15\n",
            "158/158 [==============================] - 5s 29ms/step - loss: 0.0025 - accuracy: 0.8470 - val_loss: 0.0015 - val_accuracy: 0.9315\n",
            "Epoch 12/15\n",
            "158/158 [==============================] - 3s 21ms/step - loss: 0.0024 - accuracy: 0.8470 - val_loss: 0.0015 - val_accuracy: 0.9329\n",
            "Epoch 13/15\n",
            "158/158 [==============================] - 3s 22ms/step - loss: 0.0024 - accuracy: 0.8512 - val_loss: 0.0015 - val_accuracy: 0.9321\n",
            "Epoch 14/15\n",
            "158/158 [==============================] - 3s 21ms/step - loss: 0.0023 - accuracy: 0.8526 - val_loss: 0.0016 - val_accuracy: 0.9349\n",
            "Epoch 15/15\n",
            "158/158 [==============================] - 4s 28ms/step - loss: 0.0023 - accuracy: 0.8539 - val_loss: 0.0015 - val_accuracy: 0.9331\n"
          ]
        }
      ]
    },
    {
      "cell_type": "markdown",
      "source": [
        "## Visualization of the Learning"
      ],
      "metadata": {
        "id": "bKXYqXEUSRpK"
      }
    },
    {
      "cell_type": "code",
      "source": [
        "plt.figure(figsize=(15,5))\n",
        "plt.subplot(1,2,1)\n",
        "plt.plot(history[1].history['accuracy'], color='blue', label='Train accuracy')\n",
        "plt.plot(history[1].history['val_accuracy'], color='red', label='Validation accuracy')\n",
        "plt.title('Train vs Validation Accuracy')\n",
        "plt.xlabel('Number of Epochs')\n",
        "plt.legend()\n",
        "plt.subplot(1,2,2)\n",
        "plt.plot(history[1].history['loss'], color='blue', label='Train Loss')\n",
        "plt.plot(history[1].history['val_loss'], color='red', label='Validation Loss')\n",
        "plt.title('Train vs Validation Loss')\n",
        "plt.xlabel('Number of Epochs')\n",
        "plt.legend()\n",
        "plt.show();"
      ],
      "metadata": {
        "trusted": true,
        "id": "rcQsEy1NSRpL",
        "colab": {
          "base_uri": "https://localhost:8080/",
          "height": 417
        },
        "outputId": "c54eda45-010a-4c93-e0f6-db69868eb075"
      },
      "execution_count": null,
      "outputs": [
        {
          "output_type": "display_data",
          "data": {
            "text/plain": [
              "<Figure size 1500x500 with 2 Axes>"
            ],
            "image/png": "[encoded data removed]"
          },
          "metadata": {}
        }
      ]
    },
    {
      "cell_type": "markdown",
      "source": [
        "## Predictions"
      ],
      "metadata": {
        "id": "1wzEk7qSSRpL"
      }
    },
    {
      "cell_type": "code",
      "source": [
        "# Defining function to predict datas\n",
        "def predicting(data, y_real):\n",
        "    predicted_data = history[0].predict(data)\n",
        "    # Invert scaling process to get the normal values range for the features\n",
        "    predicted_data = scaler.inverse_transform(predicted_data)\n",
        "    y_real = scaler.inverse_transform(y_real)\n",
        "\n",
        "    return predicted_data, y_real"
      ],
      "metadata": {
        "trusted": true,
        "id": "d1-6AM3tSRpL"
      },
      "execution_count": null,
      "outputs": []
    },
    {
      "cell_type": "code",
      "source": [
        "# Executing predictions\n",
        "train_prediction, y_train = predicting(X_train, y_train)\n",
        "test_prediction, y_test = predicting(X_test, y_test)"
      ],
      "metadata": {
        "trusted": true,
        "id": "HCpORMCMSRpM",
        "colab": {
          "base_uri": "https://localhost:8080/"
        },
        "outputId": "53519c8e-bbfb-4708-97a4-c5d976940b04"
      },
      "execution_count": null,
      "outputs": [
        {
          "output_type": "stream",
          "name": "stdout",
          "text": [
            "1312/1312 [==============================] - 11s 7ms/step\n",
            "45/45 [==============================] - 0s 4ms/step\n"
          ]
        }
      ]
    },
    {
      "cell_type": "markdown",
      "source": [
        "## Evaluating the Model Success"
      ],
      "metadata": {
        "id": "6MvYESLLSRpM"
      }
    },
    {
      "cell_type": "code",
      "source": [
        "# Defining function to investigate the root of mean squared errors (RMSE) between predicted and real data\n",
        "\n",
        "import math\n",
        "from sklearn.metrics import mean_squared_error\n",
        "\n",
        "def examine_rmse(y_data, predicted_data):\n",
        "    Score_SST = math.sqrt(mean_squared_error(y_data[:,5], predicted_data[:,5]))\n",
        "    print('RMSE_SST      : ', Score_SST)"
      ],
      "metadata": {
        "trusted": true,
        "id": "BwvThz0DSRpN"
      },
      "execution_count": null,
      "outputs": []
    },
    {
      "cell_type": "code",
      "source": [
        "# Executing the RMSE comparison\n",
        "print('Training Data Errors')\n",
        "print(examine_rmse(y_train, train_prediction),'\\n')\n",
        "print('Test Data Errors')\n",
        "print(examine_rmse(y_test, test_prediction))"
      ],
      "metadata": {
        "trusted": true,
        "id": "lIh9SvTYSRpN",
        "colab": {
          "base_uri": "https://localhost:8080/"
        },
        "outputId": "f2b19fdd-78dc-4069-a21d-fb1d58e0f8bd"
      },
      "execution_count": null,
      "outputs": [
        {
          "output_type": "stream",
          "name": "stdout",
          "text": [
            "Trainin Data Errors\n",
            "RMSE_SST      :  0.20886135518177407\n",
            "None \n",
            "\n",
            "Test Data Errors\n",
            "RMSE_SST      :  0.20618144393820795\n",
            "None\n"
          ]
        }
      ]
    },
    {
      "cell_type": "markdown",
      "source": [
        "## Visualization of the Real and Predicted Values\n",
        "\n",
        "For the ease of understanding the model, the real and predicted datas are limited by 123 samples (Samples from 1300-1423)."
      ],
      "metadata": {
        "id": "5PWyPOUUSRpO"
      }
    },
    {
      "cell_type": "code",
      "source": [
        "plt.figure(figsize=(5,5))\n",
        "plt.plot(test_prediction[1300:,5], color='red', alpha=0.7, label='prediction')\n",
        "plt.plot(y_test[1300:,5], color='blue', alpha=0.5, label='real')\n",
        "plt.title('Sea Surface Temperature')\n",
        "plt.legend()\n",
        "plt.show();"
      ],
      "metadata": {
        "_kg_hide-input": true,
        "trusted": true,
        "id": "YgsvQBO-SRpO",
        "colab": {
          "base_uri": "https://localhost:8080/",
          "height": 468
        },
        "outputId": "b8beda59-5997-4011-950a-aab314f1f13e"
      },
      "execution_count": null,
      "outputs": [
        {
          "output_type": "display_data",
          "data": {
            "text/plain": [
              "<Figure size 500x500 with 1 Axes>"
            ],
            "image/png": "[encoded data removed]"
          },
          "metadata": {}
        }
      ]
    },
    {
      "cell_type": "markdown",
      "source": [
        "## Conclusion\n",
        "\n",
        "LSTM model is capable of predicting future values by looking at a defined batch of samples. 30 samples are used as a batch for the model in order to predict 31st sample.\n",
        "\n",
        "\n",
        "#### 0.2 degrees celcius of error for predicting the sea surface temperature (RMSE SST) is achieved."
      ],
      "metadata": {
        "id": "kCVYrMZ6SRpP"
      }
    },
    {
      "cell_type": "markdown",
      "source": [
        "# <font color=\"green\"> Exercise\n",
        "\n",
        "Now please work in groups to create visualizationa of wave length. Hint: LSTM model have already predicted these values, we just need to visualize."
      ],
      "metadata": {
        "id": "FX_iXQpD0eKY"
      }
    }
  ]
}